{
 "cells": [
  {
   "cell_type": "code",
   "execution_count": 16,
   "metadata": {},
   "outputs": [
    {
     "name": "stdout",
     "output_type": "stream",
     "text": [
      "Train on 318267 samples, validate on 136401 samples\n",
      "Epoch 1/10\n",
      "318267/318267 [==============================] - 11s - loss: 0.3293 - acc: 0.9796 - val_loss: 0.3114 - val_acc: 0.9807\n",
      "Epoch 2/10\n",
      "318267/318267 [==============================] - 10s - loss: 0.3293 - acc: 0.9796 - val_loss: 0.3114 - val_acc: 0.9807\n",
      "Epoch 3/10\n",
      "318267/318267 [==============================] - 10s - loss: 0.3293 - acc: 0.9796 - val_loss: 0.3114 - val_acc: 0.9807\n",
      "Epoch 4/10\n",
      "318267/318267 [==============================] - 10s - loss: 0.3293 - acc: 0.9796 - val_loss: 0.3114 - val_acc: 0.9807\n",
      "Epoch 5/10\n",
      "318267/318267 [==============================] - 11s - loss: 0.3293 - acc: 0.9796 - val_loss: 0.3114 - val_acc: 0.9807\n",
      "Epoch 6/10\n",
      "318267/318267 [==============================] - 11s - loss: 0.3293 - acc: 0.9796 - val_loss: 0.3114 - val_acc: 0.9807\n",
      "Epoch 7/10\n",
      "318267/318267 [==============================] - 10s - loss: 0.3293 - acc: 0.9796 - val_loss: 0.3114 - val_acc: 0.9807\n",
      "Epoch 8/10\n",
      "318267/318267 [==============================] - 10s - loss: 0.3293 - acc: 0.9796 - val_loss: 0.3114 - val_acc: 0.9807\n",
      "Epoch 9/10\n",
      "318267/318267 [==============================] - 10s - loss: 0.3293 - acc: 0.9796 - val_loss: 0.3114 - val_acc: 0.9807\n",
      "Epoch 10/10\n",
      "318267/318267 [==============================] - 10s - loss: 0.3293 - acc: 0.9796 - val_loss: 0.3114 - val_acc: 0.9807\n"
     ]
    },
    {
     "data": {
      "image/png": "[encoded data removed]",
      "text/plain": [
       "<matplotlib.figure.Figure at 0x11945ff50>"
      ]
     },
     "metadata": {},
     "output_type": "display_data"
    },
    {
     "name": "stdout",
     "output_type": "stream",
     "text": [
      "67008/69009 [============================>.] - ETA: 0sacc: 99.77%\n"
     ]
    }
   ],
   "source": [
    "# 0. 사용할 패키지 불러오기\n",
    "import numpy as np\n",
    "from keras.models import Sequential\n",
    "from keras.layers import Dense\n",
    "\n",
    "# 랜덤시드 고정시키기\n",
    "np.random.seed(5)\n",
    "\n",
    "# 1. 데이터 준비하기\n",
    "train_dataset = np.loadtxt(\"training.txt\", delimiter=\" \")\n",
    "test_dataset = np.loadtxt(\"test.txt\", delimiter=\" \")\n",
    "\n",
    "# 2. 데이터셋 생성하기\n",
    "x_train = train_dataset[:318267,0:6]\n",
    "y_train = train_dataset[:318267,6]\n",
    "x_val = train_dataset[318267:,0:6]\n",
    "y_val = train_dataset[318267:,6]\n",
    "x_test = test_dataset[:,0:6]\n",
    "y_test = test_dataset[:,6]\n",
    "\n",
    "# 3. 모델 구성하기\n",
    "model = Sequential()\n",
    "model.add(Dense(12, input_dim=6, activation='relu'))\n",
    "model.add(Dense(8, activation='relu'))\n",
    "model.add(Dense(1, activation='sigmoid'))\n",
    "\n",
    "# 4. 모델 학습과정 설정하기\n",
    "model.compile(loss='binary_crossentropy', optimizer='adam', metrics=['accuracy'])\n",
    "\n",
    "# 5. 모델 학습시키기\n",
    "hist = model.fit(x_train, y_train, epochs=10, batch_size=64, validation_data=(x_val, y_val))\n",
    "\n",
    "# 5. 모델 학습 과정 표시하기\n",
    "%matplotlib inline\n",
    "import matplotlib.pyplot as plt\n",
    "\n",
    "fig, loss_ax = plt.subplots()\n",
    "\n",
    "acc_ax = loss_ax.twinx()\n",
    "\n",
    "loss_ax.plot(hist.history['loss'], 'y', label='train loss')\n",
    "loss_ax.plot(hist.history['val_loss'], 'r', label='val loss')\n",
    "\n",
    "acc_ax.plot(hist.history['acc'], 'b', label='train acc')\n",
    "acc_ax.plot(hist.history['val_acc'], 'g', label='val acc')\n",
    "\n",
    "loss_ax.set_xlabel('epoch')\n",
    "loss_ax.set_ylabel('loss')\n",
    "acc_ax.set_ylabel('accuray')\n",
    "\n",
    "loss_ax.legend(loc='upper left')\n",
    "acc_ax.legend(loc='lower left')\n",
    "\n",
    "plt.show()\n",
    "\n",
    "# 6. 모델 평가하기\n",
    "scores = model.evaluate(x_test, y_test)\n",
    "print(\"%s: %.2f%%\" %(model.metrics_names[1], scores[1]*100))"
   ]
  },
  {
   "cell_type": "code",
   "execution_count": null,
   "metadata": {},
   "outputs": [],
   "source": []
  }
 ],
 "metadata": {
  "kernelspec": {
   "display_name": "Python 2",
   "language": "python",
   "name": "python2"
  }
 },
 "nbformat": 4,
 "nbformat_minor": 2
}
