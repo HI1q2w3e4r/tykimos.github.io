{
 "cells": [
  {
   "cell_type": "code",
   "execution_count": 1,
   "metadata": {},
   "outputs": [],
   "source": [
    "class IArm:\n",
    "    def attack(self):\n",
    "        pass"
   ]
  },
  {
   "cell_type": "code",
   "execution_count": 2,
   "metadata": {},
   "outputs": [],
   "source": [
    "class FastArm(IArm):\n",
    "    def attack(self):\n",
    "        print('fast!!!')\n",
    "        \n",
    "class NormalArm(IArm):\n",
    "    def attack(self):\n",
    "        print('slow~~')"
   ]
  },
  {
   "cell_type": "code",
   "execution_count": 10,
   "metadata": {},
   "outputs": [],
   "source": [
    "class IWoman:\n",
    "    def __init__(self):\n",
    "        pass\n",
    "        \n",
    "    def add(self, IArm):\n",
    "        self.arms.append(IArm)\n",
    "\n",
    "    def attack(self):\n",
    "        \n",
    "        if len(self.arms) == 0:\n",
    "            print('no arm')\n",
    "        for item in self.arms:\n",
    "            item.attack()\n",
    "    \n",
    "    def take(self):\n",
    "        return self.arms.pop(0)"
   ]
  },
  {
   "cell_type": "code",
   "execution_count": 11,
   "metadata": {},
   "outputs": [],
   "source": [
    "class FastWoman(IWoman):\n",
    "    def __init__(self):\n",
    "        self.arms = []\n",
    "        fa = FastArm()\n",
    "        self.add(fa)\n",
    "        \n",
    "class NormalWoman(IWoman):\n",
    "    def __init__(self):\n",
    "        self.arms = []\n",
    "        sa = NormalArm()\n",
    "        self.add(sa)    "
   ]
  },
  {
   "cell_type": "code",
   "execution_count": 12,
   "metadata": {},
   "outputs": [
    {
     "name": "stdout",
     "output_type": "stream",
     "text": [
      "fast!!!\n"
     ]
    }
   ],
   "source": [
    "fw = FastWoman()\n",
    "fw.attack()"
   ]
  },
  {
   "cell_type": "code",
   "execution_count": 13,
   "metadata": {},
   "outputs": [
    {
     "name": "stdout",
     "output_type": "stream",
     "text": [
      "slow~~\n"
     ]
    }
   ],
   "source": [
    "sw = NormalWoman()\n",
    "sw.attack()"
   ]
  },
  {
   "cell_type": "code",
   "execution_count": 14,
   "metadata": {},
   "outputs": [],
   "source": [
    "fast_arm = fw.take()\n",
    "\n",
    "sw.add(fast_arm)"
   ]
  },
  {
   "cell_type": "code",
   "execution_count": 15,
   "metadata": {},
   "outputs": [
    {
     "name": "stdout",
     "output_type": "stream",
     "text": [
      "no arm\n"
     ]
    }
   ],
   "source": [
    "fw.attack()"
   ]
  },
  {
   "cell_type": "code",
   "execution_count": 16,
   "metadata": {},
   "outputs": [
    {
     "name": "stdout",
     "output_type": "stream",
     "text": [
      "slow~~\n",
      "fast!!!\n"
     ]
    }
   ],
   "source": [
    "sw.attack()"
   ]
  },
  {
   "cell_type": "code",
   "execution_count": 28,
   "metadata": {},
   "outputs": [],
   "source": [
    "class ICassetteTape:\n",
    "    def get_data(self):\n",
    "        pass"
   ]
  },
  {
   "cell_type": "code",
   "execution_count": 34,
   "metadata": {},
   "outputs": [],
   "source": [
    "class MusicCassetteTape(ICassetteTape):\n",
    "    def get_data(self):\n",
    "        print('type song')"
   ]
  },
  {
   "cell_type": "code",
   "execution_count": 35,
   "metadata": {},
   "outputs": [],
   "source": [
    "class CassetteTapeDrive:\n",
    "    def insert(self, ICassetteTape):\n",
    "        self.drive = ICassetteTape\n",
    "        \n",
    "    def play(self):\n",
    "        self.drive.get_data()"
   ]
  },
  {
   "cell_type": "code",
   "execution_count": 36,
   "metadata": {},
   "outputs": [
    {
     "name": "stdout",
     "output_type": "stream",
     "text": [
      "type song\n"
     ]
    }
   ],
   "source": [
    "drive = CassetteTapeDrive()\n",
    "ct = MusicCassetteTape()\n",
    "drive.insert(ct)\n",
    "drive.play()"
   ]
  },
  {
   "cell_type": "code",
   "execution_count": 42,
   "metadata": {},
   "outputs": [],
   "source": [
    "class IJack:\n",
    "    def get_sound(self):\n",
    "        pass\n",
    "    \n",
    "class Phone(IJack):\n",
    "    def get_sound(self):\n",
    "        print('mp3 song')"
   ]
  },
  {
   "cell_type": "code",
   "execution_count": 43,
   "metadata": {},
   "outputs": [],
   "source": [
    "class CarPack(ICassetteTape):\n",
    "\n",
    "    def connect_jack(self, IJack):\n",
    "        self.jack = IJack\n",
    "        \n",
    "    def get_data(self):\n",
    "        self.jack.get_sound()"
   ]
  },
  {
   "cell_type": "code",
   "execution_count": 44,
   "metadata": {},
   "outputs": [
    {
     "ename": "AttributeError",
     "evalue": "Phone instance has no attribute 'get_data'",
     "output_type": "error",
     "traceback": [
      "\u001b[0;31m---------------------------------------------------------------------------\u001b[0m",
      "\u001b[0;31mAttributeError\u001b[0m                            Traceback (most recent call last)",
      "\u001b[0;32m<ipython-input-44-1883e5cc2eed>\u001b[0m in \u001b[0;36m<module>\u001b[0;34m()\u001b[0m\n\u001b[1;32m      2\u001b[0m \u001b[0mphone\u001b[0m \u001b[0;34m=\u001b[0m \u001b[0mPhone\u001b[0m\u001b[0;34m(\u001b[0m\u001b[0;34m)\u001b[0m\u001b[0;34m\u001b[0m\u001b[0m\n\u001b[1;32m      3\u001b[0m \u001b[0mdrive\u001b[0m\u001b[0;34m.\u001b[0m\u001b[0minsert\u001b[0m\u001b[0;34m(\u001b[0m\u001b[0mphone\u001b[0m\u001b[0;34m)\u001b[0m\u001b[0;34m\u001b[0m\u001b[0m\n\u001b[0;32m----> 4\u001b[0;31m \u001b[0mdrive\u001b[0m\u001b[0;34m.\u001b[0m\u001b[0mplay\u001b[0m\u001b[0;34m(\u001b[0m\u001b[0;34m)\u001b[0m\u001b[0;34m\u001b[0m\u001b[0m\n\u001b[0m",
      "\u001b[0;32m<ipython-input-35-249cdea9f252>\u001b[0m in \u001b[0;36mplay\u001b[0;34m(self)\u001b[0m\n\u001b[1;32m      4\u001b[0m \u001b[0;34m\u001b[0m\u001b[0m\n\u001b[1;32m      5\u001b[0m     \u001b[0;32mdef\u001b[0m \u001b[0mplay\u001b[0m\u001b[0;34m(\u001b[0m\u001b[0mself\u001b[0m\u001b[0;34m)\u001b[0m\u001b[0;34m:\u001b[0m\u001b[0;34m\u001b[0m\u001b[0m\n\u001b[0;32m----> 6\u001b[0;31m         \u001b[0mself\u001b[0m\u001b[0;34m.\u001b[0m\u001b[0mdrive\u001b[0m\u001b[0;34m.\u001b[0m\u001b[0mget_data\u001b[0m\u001b[0;34m(\u001b[0m\u001b[0;34m)\u001b[0m\u001b[0;34m\u001b[0m\u001b[0m\n\u001b[0m",
      "\u001b[0;31mAttributeError\u001b[0m: Phone instance has no attribute 'get_data'"
     ]
    }
   ],
   "source": [
    "drive = CassetteTapeDrive()\n",
    "phone = Phone()\n",
    "drive.insert(phone)\n",
    "drive.play()"
   ]
  },
  {
   "cell_type": "code",
   "execution_count": 45,
   "metadata": {},
   "outputs": [
    {
     "name": "stdout",
     "output_type": "stream",
     "text": [
      "mp3 song\n"
     ]
    }
   ],
   "source": [
    "drive = CassetteTapeDrive()\n",
    "\n",
    "phone = Phone()\n",
    "car_pack = CarPack()\n",
    "car_pack.connect_jack(phone)\n",
    "\n",
    "drive.insert(car_pack)\n",
    "drive.play()"
   ]
  },
  {
   "cell_type": "code",
   "execution_count": null,
   "metadata": {},
   "outputs": [],
   "source": [
    "class IUSB:\n",
    "    def poweron(self):\n",
    "        pass"
   ]
  },
  {
   "cell_type": "code",
   "execution_count": null,
   "metadata": {},
   "outputs": [],
   "source": [
    "class FAN(IUSB):\n",
    "    def poweron(self):\n",
    "        print('wing~~')\n",
    "        \n",
    "class Cup(IUSB):\n",
    "    def poweron(self):\n",
    "        print('cool')\n",
    "        \n",
    "class Phone(IUSB):\n",
    "    def poweron(self):\n",
    "        print('charging...')"
   ]
  },
  {
   "cell_type": "code",
   "execution_count": null,
   "metadata": {},
   "outputs": [],
   "source": [
    "f = FAN()\n",
    "f.poweron()\n",
    "\n",
    "c = Cup()\n",
    "c.poweron()\n",
    "\n",
    "p = Phone()\n",
    "p.poweron()"
   ]
  },
  {
   "cell_type": "code",
   "execution_count": null,
   "metadata": {},
   "outputs": [],
   "source": [
    "class USBhub(IUSB):\n",
    "    \n",
    "    def __init__(self):\n",
    "        self.ports = []\n",
    "        \n",
    "    def add(self, IUSB):\n",
    "        self.ports.append(IUSB)\n",
    "    \n",
    "    def poweron(self):\n",
    "        for item in self.ports:\n",
    "            item.poweron()"
   ]
  },
  {
   "cell_type": "code",
   "execution_count": null,
   "metadata": {},
   "outputs": [],
   "source": [
    "hub = USBhub()\n",
    "hub.add(f)\n",
    "hub.add(c)\n",
    "hub.add(p)\n",
    "hub.poweron()"
   ]
  }
 ],
 "metadata": {
  "kernelspec": {
   "display_name": "Python 2",
   "language": "python",
   "name": "python2"
  },
  "language_info": {
   "codemirror_mode": {
    "name": "ipython",
    "version": 2
   },
   "file_extension": ".py",
   "mimetype": "text/x-python",
   "name": "python",
   "nbconvert_exporter": "python",
   "pygments_lexer": "ipython2",
   "version": "2.7.13"
  }
 },
 "nbformat": 4,
 "nbformat_minor": 2
}
