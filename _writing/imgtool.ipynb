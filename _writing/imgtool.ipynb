{
 "cells": [
  {
   "cell_type": "code",
   "execution_count": 16,
   "metadata": {},
   "outputs": [],
   "source": [
    "from PIL import Image\n",
    "\n",
    "for idx in range(1, 14):\n",
    "    \n",
    "    str_a = './cards/raw/A/' + str(idx) + '.jpg'\n",
    "    str_b = './cards/raw/B/' + str(idx) + '.jpg'    \n",
    "    str_c = './cards/train/' + str(idx) + '.jpg'\n",
    "    \n",
    "    im_a = Image.open(str_a)\n",
    "    im_b = Image.open(str_b)\n",
    "    im_c = Image.new('RGB', (512, 256))\n",
    "    \n",
    "    im_a_resize = im_a.resize((256, 256), Image.ANTIALIAS)\n",
    "    im_b_resize = im_b.resize((256, 256), Image.ANTIALIAS)    \n",
    "    \n",
    "    im_c.paste(im_a_resize, (0, 0, 256, 256))\n",
    "    im_c.paste(im_b_resize, (256, 0, 512, 256))    \n",
    "    \n",
    "    im_c.save(str_c, quality=90)"
   ]
  },
  {
   "cell_type": "code",
   "execution_count": null,
   "metadata": {},
   "outputs": [],
   "source": []
  }
 ],
 "metadata": {
  "kernelspec": {
   "display_name": "Python 2",
   "language": "python",
   "name": "python2"
  },
  "language_info": {
   "codemirror_mode": {
    "name": "ipython",
    "version": 2
   },
   "file_extension": ".py",
   "mimetype": "text/x-python",
   "name": "python",
   "nbconvert_exporter": "python",
   "pygments_lexer": "ipython2",
   "version": "2.7.13"
  }
 },
 "nbformat": 4,
 "nbformat_minor": 2
}
