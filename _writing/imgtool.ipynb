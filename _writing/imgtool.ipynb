{
 "cells": [
  {
   "cell_type": "code",
   "execution_count": 16,
   "metadata": {},
   "outputs": [],
   "source": [
    "from PIL import Image\n",
    "\n",
    "for idx in range(1, 14):\n",
    "    \n",
    "    str_a = './cards/raw/A/' + str(idx) + '.jpg'\n",
    "    str_b = './cards/raw/B/' + str(idx) + '.jpg'    \n",
    "    str_c = './cards/train/' + str(idx) + '.jpg'\n",
    "    \n",
    "    im_a = Image.open(str_a)\n",
    "    im_b = Image.open(str_b)\n",
    "    im_c = Image.new('RGB', (512, 256))\n",
    "    \n",
    "    im_a_resize = im_a.resize((256, 256), Image.ANTIALIAS)\n",
    "    im_b_resize = im_b.resize((256, 256), Image.ANTIALIAS)    \n",
    "    \n",
    "    im_c.paste(im_a_resize, (0, 0, 256, 256))\n",
    "    im_c.paste(im_b_resize, (256, 0, 512, 256))    \n",
    "    \n",
    "    im_c.save(str_c, quality=90)"
   ]
  },
  {
   "cell_type": "markdown",
   "metadata": {},
   "source": [
    "# 합치기"
   ]
  },
  {
   "cell_type": "code",
   "execution_count": 7,
   "metadata": {},
   "outputs": [],
   "source": [
    "from PIL import Image\n",
    "\n",
    "for idx in range(0, 415):\n",
    "    \n",
    "    str_a = './warehouse/frame_in_v1/' + str(idx) + '.jpg'\n",
    "    str_b = './warehouse/frame_out_v1/' + str(idx) + '.jpg'    \n",
    "    str_c = './warehouse/frame_v1/' + str(idx) + '.jpg'\n",
    "    \n",
    "    im_a = Image.open(str_a)\n",
    "    im_b = Image.open(str_b)\n",
    "    im_c = Image.new('RGB', (512, 256))\n",
    "    \n",
    "    im_a_resize = im_a.resize((256, 256), Image.ANTIALIAS)\n",
    "    im_b_resize = im_b.resize((256, 256), Image.ANTIALIAS)    \n",
    "    \n",
    "    im_c.paste(im_a_resize, (0, 0, 256, 256))\n",
    "    im_c.paste(im_b_resize, (256, 0, 512, 256))    \n",
    "    \n",
    "    im_c.save(str_c, quality=90)"
   ]
  },
  {
   "cell_type": "code",
   "execution_count": 9,
   "metadata": {},
   "outputs": [],
   "source": [
    "import cv2\n",
    "import numpy as np\n",
    "import os\n",
    "\n",
    "def frames_to_video(inputpath,outputpath,fps):\n",
    "    image_array = []\n",
    "\n",
    "    for i in range(415):\n",
    "        filename= str(i) + '.jpg'\n",
    "        tt = inputpath + filename        \n",
    "        img = cv2.imread(inputpath + filename)\n",
    "        size =  (img.shape[1], img.shape[0])\n",
    "        img = cv2.resize(img,size)\n",
    "        image_array.append(img)\n",
    "    fourcc = cv2.VideoWriter_fourcc('D', 'I', 'V', 'X')\n",
    "    out = cv2.VideoWriter(outputpath,fourcc, fps, size)\n",
    "    for i in range(len(image_array)):\n",
    "        out.write(image_array[i])\n",
    "    out.release()\n",
    "\n",
    "inputpath = 'warehouse/frame_v1/'\n",
    "outpath =  'warehouse/frame_v1.mp4'\n",
    "fps = 30\n",
    "frames_to_video(inputpath,outpath,fps)"
   ]
  },
  {
   "cell_type": "markdown",
   "metadata": {},
   "source": [
    "### 회전"
   ]
  },
  {
   "cell_type": "code",
   "execution_count": 5,
   "metadata": {},
   "outputs": [],
   "source": [
    "# 회전\n",
    "# 0~414\n",
    "max_idx = 414\n",
    "src_dir = './warehouse/frame_in_v1_org/'\n",
    "dst_dir = './warehouse/frame_in_v1/'\n",
    "\n",
    "for idx in range(max_idx+1):\n",
    "    \n",
    "    src_path = src_dir + str(idx) + '.jpg'\n",
    "    dst_path = dst_dir + str(idx) + '.jpg'\n",
    "    \n",
    "    src_img = Image.open(src_path)\n",
    "    dst_img = src_img.rotate(90)\n",
    "    \n",
    "    dst_img.save(dst_path, quality=90)"
   ]
  },
  {
   "cell_type": "code",
   "execution_count": 6,
   "metadata": {},
   "outputs": [],
   "source": [
    "import cv2\n",
    "import numpy as np\n",
    "import os\n",
    "\n",
    "def frames_to_video(inputpath,outputpath,fps):\n",
    "    image_array = []\n",
    "\n",
    "    for i in range(415):\n",
    "        filename= str(i) + '.jpg'\n",
    "        tt = inputpath + filename        \n",
    "        img = cv2.imread(inputpath + filename)\n",
    "        size =  (img.shape[1], img.shape[0])\n",
    "        img = cv2.resize(img,size)\n",
    "        image_array.append(img)\n",
    "    fourcc = cv2.VideoWriter_fourcc('D', 'I', 'V', 'X')\n",
    "    out = cv2.VideoWriter(outputpath,fourcc, fps, size)\n",
    "    for i in range(len(image_array)):\n",
    "        out.write(image_array[i])\n",
    "    out.release()\n",
    "\n",
    "inputpath = 'warehouse/frame_out_v1/'\n",
    "outpath =  'warehouse/frame_out_v1.mp4'\n",
    "fps = 30\n",
    "frames_to_video(inputpath,outpath,fps)"
   ]
  },
  {
   "cell_type": "code",
   "execution_count": null,
   "metadata": {},
   "outputs": [],
   "source": []
  }
 ],
 "metadata": {
  "kernelspec": {
   "display_name": "Python 2",
   "language": "python",
   "name": "python2"
  },
  "language_info": {
   "codemirror_mode": {
    "name": "ipython",
    "version": 2
   },
   "file_extension": ".py",
   "mimetype": "text/x-python",
   "name": "python",
   "nbconvert_exporter": "python",
   "pygments_lexer": "ipython2",
   "version": "2.7.10"
  }
 },
 "nbformat": 4,
 "nbformat_minor": 2
}
