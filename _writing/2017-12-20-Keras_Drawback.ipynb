{
 "cells": [
  {
   "cell_type": "raw",
   "metadata": {},
   "source": [
    "---\n",
    "layout: post\n",
    "title:  \"케라스 단점\"\n",
    "author: 김태영\n",
    "date:   2017-12-20 00:00:00\n",
    "categories: Study\n",
    "comments: true\n",
    "---"
   ]
  },
  {
   "cell_type": "markdown",
   "metadata": {},
   "source": [
    "케라스를 다른 분들께 소개하면서 케라스 단점도 알아야 겠다는 생각이 들어 정리해봤습니다. 커뮤너티나 제가 느낀 점을 정리해봤습니다. 다른 단점이나 의견이 있으신 분들은 댓글로 달아주세요."
   ]
  },
  {
   "cell_type": "markdown",
   "metadata": {},
   "source": [
    "---\n",
    "\n",
    "### 케라스 단점\n",
    "\n",
    "* 코드에 오류가 발생하였을 경우 케라스 자체 에러일 수도 있고 사용한 백엔드(텐서플로우 등) 문제일 수도 있기에 원인 찾기가 쉽지 않습니다.\n",
    "* 오류에 대한 조언을 얻기 위해 커뮤너티를 활용할 경우에도 백엔드(텐서플로우 등) 커뮤너티나 케라스 커뮤너티 모두 도움을 요청해야하는 일이 발생할 수 있습니다.\n",
    "* 만약 케라스에 오류가 있거나 지원되지 않는 기능을 직접 수정한다고 했을 때, 케라스 코드를 수정할 수 있습니다만 케라스 인터페이스에 맞추어서 수정하는 것보다 그냥 벡엔드를 익혀서 수정하는 것이 더 빠를 수 있습니다.\n",
    "* 케라스에서 제공하는 텍스트 및 이미지 전처리 기능을 제공하지만 다양한 전처리를 원한다면 다른 패키지(scikit-learn이나 pandas 등)을 사용해야 됩니다.\n",
    "* 문서화가 제대로 되어 있지 않습니다. 제공되는 함수 목록은 빨리 업데이트 되는 편이지만 함수에 대한 설명을 찾기란 쉽지 않습니다. \n",
    "* 충분한 예제가 없습니다.\n",
    "* 한국에서 사용자가 적어 물어볼 곳이 마땅히 없습니다."
   ]
  },
  {
   "cell_type": "markdown",
   "metadata": {
    "collapsed": true
   },
   "source": [
    "---\n",
    "\n",
    "### 같이 보기\n",
    "\n",
    "* [강좌 목차]"
   ]
  }
 ],
 "metadata": {
  "kernelspec": {
   "display_name": "Python 2",
   "language": "python",
   "name": "python2"
  },
  "language_info": {
   "codemirror_mode": {
    "name": "ipython",
    "version": 2
   },
   "file_extension": ".py",
   "mimetype": "text/x-python",
   "name": "python",
   "nbconvert_exporter": "python",
   "pygments_lexer": "ipython2",
   "version": "2.7.10"
  }
 },
 "nbformat": 4,
 "nbformat_minor": 1
}
