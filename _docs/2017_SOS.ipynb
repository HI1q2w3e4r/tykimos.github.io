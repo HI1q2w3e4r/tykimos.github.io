{
 "cells": [
  {
   "cell_type": "markdown",
   "metadata": {
    "slideshow": {
     "slide_type": "slide"
    }
   },
   "source": [
    "## 제안사의 특장점 (1/2)\n",
    "\n",
    "* 관제 시스템 통합을 위한 분석/설계 및 가상화 연구\n",
    "    * **임무관제 가상화 시스템 시험운영 (2012, KARI)**\n",
    "    * 스케쥴링기반 K3(아리랑위성 3호) 일상 임무계획 모듈 자동화 프로토타입 개발 (2015, KARI)\n",
    "    * 아리랑3호 임무계획 및 명령계획 자동화 소프트웨어 제작 (2016, KARI)\n",
    "    * **아리랑위성 통합임무계획시스템 개발 용역 (2017, KARI)**\n",
    "    * 다목적실용위성 운영관리 시스템 개발 (2013, KARI)\n",
    "    * Kompsat Visualization Tool 용역 (2014, KARI)\n",
    "    * 종합관제실 교신지원모듈 및 궤도작업스케줄러 시제품 (2016, KARI)    \n",
    "    * 과학기술위성3호 위성운용 (2014~, 인공위성연구센터)    \n",
    "\n",
    "* CAS500-1 프레임워크 설계 및 핵심 미들웨어 개발\n",
    "    * **CAS500-1 지상시스템 Software 프레임워크 개발방안 설계 조사 분석 (2016, KARI)**\n",
    "    * 저궤도 위성 작업 지시서 관리 시스템 개발 (2012, KARI)\n",
    "    * 위성자료관리 서브시스템 개발 (2015~, ETRI)    "
   ]
  },
  {
   "cell_type": "markdown",
   "metadata": {
    "slideshow": {
     "slide_type": "subslide"
    }
   },
   "source": [
    "## 제안사의 특장점 (2/2)\n",
    "\n",
    "* 다수의 통합 시스템 개발 경험\n",
    "    * 다목적실용위성 2호,3호,5호 극지수신용 통합 전처리 시스템 업그레이드 (2013, KARI)\n",
    "    * 기상위성 정보(LRIT/HRIT/UHRIT) 통합 수신처리 시스템 개발 (2013~2015, R&D)\n",
    "    * 고부가 위성정보 DB 관리시스템 개발 (2013, KARI)\n",
    "    * 위성영상 수신 및 처리결과 통합관리 시스템 개발 (2014, KARI)\n",
    "    * 다목적실용위성 3A호 위성자료 저장관리 시스템 기능개선 (2015, KARI)\n",
    "* 타 기관 위성 지상국 인프라/시스템 구축\n",
    "    * 환경위성 지상국 상세기술 분석 (2013, 국립환경과학원)\n",
    "    * 국가환경위성센터 효율적 관리방안 (2015, 국립환경과학원)\n",
    "    * 정지궤도 환경위성 지상국 시스템 구축 방안 수립 (2016, 국립환경과학원)\n",
    "    * 재난전조감지를 위한 위성센서 개발 및 실험동 운용을 위한 기획연구 (2014, 국립재난안전연구원)    \n",
    "    * 위성영상 수신처리시스템 인프라구축 (2015, 한국수자원공사)\n",
    "* 병렬분산/빅데이터/딥러닝 전문 기업\n",
    "    * 고해상도 위성영상 고속 암호 및 압축 모듈 연구 개발(2012, KARI)\n",
    "    * 다형영상 빅데이터 수집 SW모듈 시제품 제작 (2014, ETRI)\n",
    "    * 클러스터 컴퓨팅 기반의 대용량 위성영상 분석 이용자 환경 개발 (2015, KISTI)\n",
    "    * **다차원 빅데이터 분석 기술 이용자 환경 구현 (2017, KISTI)**  \n",
    "    * 서울시·KAIST, 양재 R&CD 혁신지구 AI 센터 입주 선정 (국내 최고 수준의 인공지능 기술 집약)"
   ]
  },
  {
   "attachments": {},
   "cell_type": "markdown",
   "metadata": {
    "slideshow": {
     "slide_type": "slide"
    }
   },
   "source": [
    "### 추진전략\n",
    "\n",
    "* 차세대중형위성 위성운용시스템 프레임워크 정의\n",
    "    * CAS500-1 지상시스템 Software 프레임워크 활용\n",
    "    * 4대환경 (실행환경, 개발환경, 관리환경, 운영환경) 구축\n",
    "    * 공통컴포넌트 개발\n",
    "    \n",
    "* 프레임워크 핵심 요소인 자사 개발 미들웨어 제공\n",
    "    * 컴포넌트 프레임워크 (Component Framework)\n",
    "    * 서비스 통합 플랫폼 (Service Integration Platform)\n",
    "    * 통신 및 데이터 분배 (Communication and Data Distribution)\n",
    "    * 시스템 런타임 관리 (System Run-Time Management)\n",
    "\n",
    "* 통합 및 자동화 방안 제시\n",
    "    * 컴포넌트 프레임워크 (Component Framework)\n",
    "    * 서비스 통합 플랫폼 (Service Integration Platform)\n",
    "    * 통신 및 데이터 분배 (Communication and Data Distribution)\n",
    "    * 딥러닝 기반 \n",
    "\n",
    "임무관제 시스템 통합을 위한 분석 및 가상화 연구\n",
    "* CAS500-1 지상시스템 소프트웨어 프레임워크 설계\n",
    "* 지상국 시스템 핵심 미들웨어 개발\n",
    "* 타 기관 위성 지상국 인프라/시스템 구축\n",
    "\n",
    "가상화 노드 상태 모니터링 기능\n",
    "자동화 abnormal \n",
    "    보안검사 리스트 작성\n",
    "- 차중위성 12기의 통합 프레임워크 개발로 컴포넌트의 재사용 가능 및 유지보수 용이함\n",
    "- 가상화 및 공통 모듈화 구성으로 차중위성의 지상국 재개발 비용 획기적으로 축소 및 지상시스템 개발 생산성 증가\n",
    "- 한국항공우주연구원 출신 연구원 및 지상국 운영 인력, SW 전문 개발자의 철저한 요구사항 분석 \n",
    "\n",
    "-CAS500-1 지상시스템 SW 통합 프레임워크 기술 적용\n",
    "-위성 통합 운영을 고려한 시스템 설계 및 구축(통합 MPS 프레임워크를 이용한 시스템 개바선안 수립, MPS 개발 경험을 바탕으로 다중 임무운영 SOS 설계)\n",
    "-유사사업 수행경험 전문가 PM 인력 투입으로 신뢰성 확보"
   ]
  },
  {
   "cell_type": "code",
   "execution_count": null,
   "metadata": {
    "slideshow": {
     "slide_type": "slide"
    }
   },
   "outputs": [],
   "source": [
    "### 추진전략\n",
    "\n",
    "* 임무관제 시스템 통합을 위한 분석 및 가상화 연구\n",
    "* CAS500-1 지상시스템 소프트웨어 프레임워크 설계\n",
    "* 지상국 시스템 핵심 미들웨어 개발\n",
    "* 타 기관 위성 지상국 인프라/시스템 구축"
   ]
  },
  {
   "cell_type": "code",
   "execution_count": null,
   "metadata": {},
   "outputs": [],
   "source": []
  }
 ],
 "metadata": {
  "celltoolbar": "Slideshow",
  "kernelspec": {
   "display_name": "Python 2",
   "language": "python",
   "name": "python2"
  },
  "language_info": {
   "codemirror_mode": {
    "name": "ipython",
    "version": 2
   },
   "file_extension": ".py",
   "mimetype": "text/x-python",
   "name": "python",
   "nbconvert_exporter": "python",
   "pygments_lexer": "ipython2",
   "version": "2.7.13"
  }
 },
 "nbformat": 4,
 "nbformat_minor": 2
}
